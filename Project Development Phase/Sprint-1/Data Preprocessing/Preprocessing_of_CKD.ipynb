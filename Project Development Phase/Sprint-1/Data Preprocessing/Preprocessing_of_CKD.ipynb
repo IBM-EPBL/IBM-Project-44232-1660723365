{
 "cells": [
  {
   "cell_type": "markdown",
   "metadata": {},
   "source": [
    "# Import the libraries"
   ]
  },
  {
   "cell_type": "code",
   "execution_count": 72,
   "metadata": {
    "collapsed": true
   },
   "outputs": [],
   "source": [
    "import numpy as np\n",
    "import pandas as pd\n",
    "import matplotlib.pyplot as plt\n",
    "import seaborn as sns\n",
    "from collections import Counter as c\n",
    "from sklearn.preprocessing import LabelEncoder\n",
    "%matplotlib inline"
   ]
  },
  {
   "cell_type": "markdown",
   "metadata": {
    "collapsed": true
   },
   "source": [
    "# Read the Dataset"
   ]
  },
  {
   "cell_type": "code",
   "execution_count": 3,
   "metadata": {
    "collapsed": true
   },
   "outputs": [],
   "source": [
    "data = pd.read_csv('chronickidneydisease.csv')"
   ]
  },
  {
   "cell_type": "code",
   "execution_count": 4,
   "metadata": {},
   "outputs": [
    {
     "data": {
      "text/html": [
       "<div>\n",
       "<style>\n",
       "    .dataframe thead tr:only-child th {\n",
       "        text-align: right;\n",
       "    }\n",
       "\n",
       "    .dataframe thead th {\n",
       "        text-align: left;\n",
       "    }\n",
       "\n",
       "    .dataframe tbody tr th {\n",
       "        vertical-align: top;\n",
       "    }\n",
       "</style>\n",
       "<table border=\"1\" class=\"dataframe\">\n",
       "  <thead>\n",
       "    <tr style=\"text-align: right;\">\n",
       "      <th></th>\n",
       "      <th>id</th>\n",
       "      <th>age</th>\n",
       "      <th>bp</th>\n",
       "      <th>sg</th>\n",
       "      <th>al</th>\n",
       "      <th>su</th>\n",
       "      <th>rbc</th>\n",
       "      <th>pc</th>\n",
       "      <th>pcc</th>\n",
       "      <th>ba</th>\n",
       "      <th>...</th>\n",
       "      <th>pcv</th>\n",
       "      <th>wc</th>\n",
       "      <th>rc</th>\n",
       "      <th>htn</th>\n",
       "      <th>dm</th>\n",
       "      <th>cad</th>\n",
       "      <th>appet</th>\n",
       "      <th>pe</th>\n",
       "      <th>ane</th>\n",
       "      <th>classification</th>\n",
       "    </tr>\n",
       "  </thead>\n",
       "  <tbody>\n",
       "    <tr>\n",
       "      <th>0</th>\n",
       "      <td>0</td>\n",
       "      <td>48.0</td>\n",
       "      <td>80.0</td>\n",
       "      <td>1.020</td>\n",
       "      <td>1.0</td>\n",
       "      <td>0.0</td>\n",
       "      <td>NaN</td>\n",
       "      <td>normal</td>\n",
       "      <td>notpresent</td>\n",
       "      <td>notpresent</td>\n",
       "      <td>...</td>\n",
       "      <td>44</td>\n",
       "      <td>7800</td>\n",
       "      <td>5.2</td>\n",
       "      <td>yes</td>\n",
       "      <td>yes</td>\n",
       "      <td>no</td>\n",
       "      <td>good</td>\n",
       "      <td>no</td>\n",
       "      <td>no</td>\n",
       "      <td>ckd</td>\n",
       "    </tr>\n",
       "    <tr>\n",
       "      <th>1</th>\n",
       "      <td>1</td>\n",
       "      <td>7.0</td>\n",
       "      <td>50.0</td>\n",
       "      <td>1.020</td>\n",
       "      <td>4.0</td>\n",
       "      <td>0.0</td>\n",
       "      <td>NaN</td>\n",
       "      <td>normal</td>\n",
       "      <td>notpresent</td>\n",
       "      <td>notpresent</td>\n",
       "      <td>...</td>\n",
       "      <td>38</td>\n",
       "      <td>6000</td>\n",
       "      <td>NaN</td>\n",
       "      <td>no</td>\n",
       "      <td>no</td>\n",
       "      <td>no</td>\n",
       "      <td>good</td>\n",
       "      <td>no</td>\n",
       "      <td>no</td>\n",
       "      <td>ckd</td>\n",
       "    </tr>\n",
       "    <tr>\n",
       "      <th>2</th>\n",
       "      <td>2</td>\n",
       "      <td>62.0</td>\n",
       "      <td>80.0</td>\n",
       "      <td>1.010</td>\n",
       "      <td>2.0</td>\n",
       "      <td>3.0</td>\n",
       "      <td>normal</td>\n",
       "      <td>normal</td>\n",
       "      <td>notpresent</td>\n",
       "      <td>notpresent</td>\n",
       "      <td>...</td>\n",
       "      <td>31</td>\n",
       "      <td>7500</td>\n",
       "      <td>NaN</td>\n",
       "      <td>no</td>\n",
       "      <td>yes</td>\n",
       "      <td>no</td>\n",
       "      <td>poor</td>\n",
       "      <td>no</td>\n",
       "      <td>yes</td>\n",
       "      <td>ckd</td>\n",
       "    </tr>\n",
       "    <tr>\n",
       "      <th>3</th>\n",
       "      <td>3</td>\n",
       "      <td>48.0</td>\n",
       "      <td>70.0</td>\n",
       "      <td>1.005</td>\n",
       "      <td>4.0</td>\n",
       "      <td>0.0</td>\n",
       "      <td>normal</td>\n",
       "      <td>abnormal</td>\n",
       "      <td>present</td>\n",
       "      <td>notpresent</td>\n",
       "      <td>...</td>\n",
       "      <td>32</td>\n",
       "      <td>6700</td>\n",
       "      <td>3.9</td>\n",
       "      <td>yes</td>\n",
       "      <td>no</td>\n",
       "      <td>no</td>\n",
       "      <td>poor</td>\n",
       "      <td>yes</td>\n",
       "      <td>yes</td>\n",
       "      <td>ckd</td>\n",
       "    </tr>\n",
       "    <tr>\n",
       "      <th>4</th>\n",
       "      <td>4</td>\n",
       "      <td>51.0</td>\n",
       "      <td>80.0</td>\n",
       "      <td>1.010</td>\n",
       "      <td>2.0</td>\n",
       "      <td>0.0</td>\n",
       "      <td>normal</td>\n",
       "      <td>normal</td>\n",
       "      <td>notpresent</td>\n",
       "      <td>notpresent</td>\n",
       "      <td>...</td>\n",
       "      <td>35</td>\n",
       "      <td>7300</td>\n",
       "      <td>4.6</td>\n",
       "      <td>no</td>\n",
       "      <td>no</td>\n",
       "      <td>no</td>\n",
       "      <td>good</td>\n",
       "      <td>no</td>\n",
       "      <td>no</td>\n",
       "      <td>ckd</td>\n",
       "    </tr>\n",
       "  </tbody>\n",
       "</table>\n",
       "<p>5 rows × 26 columns</p>\n",
       "</div>"
      ],
      "text/plain": [
       "   id   age    bp     sg   al   su     rbc        pc         pcc          ba  \\\n",
       "0   0  48.0  80.0  1.020  1.0  0.0     NaN    normal  notpresent  notpresent   \n",
       "1   1   7.0  50.0  1.020  4.0  0.0     NaN    normal  notpresent  notpresent   \n",
       "2   2  62.0  80.0  1.010  2.0  3.0  normal    normal  notpresent  notpresent   \n",
       "3   3  48.0  70.0  1.005  4.0  0.0  normal  abnormal     present  notpresent   \n",
       "4   4  51.0  80.0  1.010  2.0  0.0  normal    normal  notpresent  notpresent   \n",
       "\n",
       "       ...        pcv    wc   rc  htn   dm  cad appet   pe  ane classification  \n",
       "0      ...         44  7800  5.2  yes  yes   no  good   no   no            ckd  \n",
       "1      ...         38  6000  NaN   no   no   no  good   no   no            ckd  \n",
       "2      ...         31  7500  NaN   no  yes   no  poor   no  yes            ckd  \n",
       "3      ...         32  6700  3.9  yes   no   no  poor  yes  yes            ckd  \n",
       "4      ...         35  7300  4.6   no   no   no  good   no   no            ckd  \n",
       "\n",
       "[5 rows x 26 columns]"
      ]
     },
     "execution_count": 4,
     "metadata": {},
     "output_type": "execute_result"
    }
   ],
   "source": [
    "data.head()"
   ]
  },
  {
   "cell_type": "markdown",
   "metadata": {},
   "source": [
    "# Understanding datatypes and summery of features "
   ]
  },
  {
   "cell_type": "code",
   "execution_count": 41,
   "metadata": {},
   "outputs": [
    {
     "data": {
      "text/plain": [
       "Index(['age', 'bp', 'sg', 'al', 'su', 'rbc', 'pc', 'pcc', 'ba', 'bgr', 'bu',\n",
       "       'sc', 'sod', 'pot', 'hemo', 'pcv', 'wc', 'rc', 'htn', 'dm', 'cad',\n",
       "       'appet', 'pe', 'ane', 'classification'],\n",
       "      dtype='object')"
      ]
     },
     "execution_count": 41,
     "metadata": {},
     "output_type": "execute_result"
    }
   ],
   "source": [
    "data.columns"
   ]
  },
  {
   "cell_type": "code",
   "execution_count": 42,
   "metadata": {},
   "outputs": [
    {
     "data": {
      "text/plain": [
       "(400, 25)"
      ]
     },
     "execution_count": 42,
     "metadata": {},
     "output_type": "execute_result"
    }
   ],
   "source": [
    "data.shape"
   ]
  },
  {
   "cell_type": "code",
   "execution_count": 43,
   "metadata": {},
   "outputs": [
    {
     "name": "stdout",
     "output_type": "stream",
     "text": [
      "<class 'pandas.core.frame.DataFrame'>\n",
      "RangeIndex: 400 entries, 0 to 399\n",
      "Data columns (total 25 columns):\n",
      "age               400 non-null float64\n",
      "bp                400 non-null float64\n",
      "sg                400 non-null float64\n",
      "al                400 non-null float64\n",
      "su                351 non-null float64\n",
      "rbc               400 non-null object\n",
      "pc                400 non-null object\n",
      "pcc               400 non-null object\n",
      "ba                400 non-null object\n",
      "bgr               400 non-null float64\n",
      "bu                400 non-null float64\n",
      "sc                400 non-null float64\n",
      "sod               400 non-null float64\n",
      "pot               400 non-null float64\n",
      "hemo              400 non-null float64\n",
      "pcv               400 non-null float64\n",
      "wc                400 non-null float64\n",
      "rc                400 non-null float64\n",
      "htn               400 non-null object\n",
      "dm                400 non-null object\n",
      "cad               400 non-null object\n",
      "appet             400 non-null object\n",
      "pe                400 non-null object\n",
      "ane               400 non-null object\n",
      "classification    400 non-null object\n",
      "dtypes: float64(14), object(11)\n",
      "memory usage: 78.2+ KB\n"
     ]
    }
   ],
   "source": [
    "data.info()"
   ]
  },
  {
   "cell_type": "code",
   "execution_count": 44,
   "metadata": {},
   "outputs": [
    {
     "data": {
      "text/plain": [
       "array(['ckd', 'notckd'], dtype=object)"
      ]
     },
     "execution_count": 44,
     "metadata": {},
     "output_type": "execute_result"
    }
   ],
   "source": [
    "data['classification'].unique()"
   ]
  },
  {
   "cell_type": "code",
   "execution_count": 45,
   "metadata": {},
   "outputs": [
    {
     "data": {
      "text/plain": [
       "array(['ckd', 'notckd'], dtype=object)"
      ]
     },
     "execution_count": 45,
     "metadata": {},
     "output_type": "execute_result"
    }
   ],
   "source": [
    "data['classification']=data['classification'].replace(\"ckd\\t\",\"ckd\")\n",
    "data['classification'].unique()"
   ]
  },
  {
   "cell_type": "markdown",
   "metadata": {},
   "source": [
    "#### Categorical Columns "
   ]
  },
  {
   "cell_type": "code",
   "execution_count": 46,
   "metadata": {},
   "outputs": [
    {
     "name": "stdout",
     "output_type": "stream",
     "text": [
      "{'htn', 'appet', 'dm', 'pcc', 'rbc', 'pe', 'pc', 'ane', 'classification', 'ba', 'cad'}\n"
     ]
    }
   ],
   "source": [
    "catcol = set(data.dtypes[data.dtypes=='O'].index.values)\n",
    "print(catcol)"
   ]
  },
  {
   "cell_type": "code",
   "execution_count": 47,
   "metadata": {},
   "outputs": [
    {
     "name": "stdout",
     "output_type": "stream",
     "text": [
      "Columns:  htn\n",
      "Counter({'no': 253, 'yes': 147})\n",
      "************************************************************************************************************************\n",
      "\n",
      "Columns:  appet\n",
      "Counter({'good': 318, 'poor': 82})\n",
      "************************************************************************************************************************\n",
      "\n",
      "Columns:  dm\n",
      "Counter({'no': 260, 'yes': 134, '\\tno': 3, '\\tyes': 2, ' yes': 1})\n",
      "************************************************************************************************************************\n",
      "\n",
      "Columns:  pcc\n",
      "Counter({'notpresent': 358, 'present': 42})\n",
      "************************************************************************************************************************\n",
      "\n",
      "Columns:  rbc\n",
      "Counter({'normal': 353, 'abnormal': 47})\n",
      "************************************************************************************************************************\n",
      "\n",
      "Columns:  pe\n",
      "Counter({'no': 324, 'yes': 76})\n",
      "************************************************************************************************************************\n",
      "\n",
      "Columns:  pc\n",
      "Counter({'normal': 324, 'abnormal': 76})\n",
      "************************************************************************************************************************\n",
      "\n",
      "Columns:  ane\n",
      "Counter({'no': 340, 'yes': 60})\n",
      "************************************************************************************************************************\n",
      "\n",
      "Columns:  classification\n",
      "Counter({'ckd': 250, 'notckd': 150})\n",
      "************************************************************************************************************************\n",
      "\n",
      "Columns:  ba\n",
      "Counter({'notpresent': 378, 'present': 22})\n",
      "************************************************************************************************************************\n",
      "\n",
      "Columns:  cad\n",
      "Counter({'no': 364, 'yes': 34, '\\tno': 2})\n",
      "************************************************************************************************************************\n",
      "\n"
     ]
    }
   ],
   "source": [
    "for i in catcol:\n",
    "    print(\"Columns: \",i)\n",
    "    print(c(data[i]))\n",
    "    print(\"*\"*120+\"\\n\")"
   ]
  },
  {
   "cell_type": "markdown",
   "metadata": {},
   "source": [
    "#### Numerical Columns "
   ]
  },
  {
   "cell_type": "code",
   "execution_count": 48,
   "metadata": {},
   "outputs": [
    {
     "name": "stdout",
     "output_type": "stream",
     "text": [
      "{'su', 'sod', 'bgr', 'pot', 'wc', 'hemo', 'sg', 'sc', 'age', 'bu', 'rc', 'pcv', 'bp', 'al'}\n"
     ]
    }
   ],
   "source": [
    "numcol = set(data.dtypes[data.dtypes!='O'].index.values)\n",
    "print(numcol)"
   ]
  },
  {
   "cell_type": "markdown",
   "metadata": {},
   "source": [
    "#### Rectifying the categorical columns"
   ]
  },
  {
   "cell_type": "code",
   "execution_count": 52,
   "metadata": {},
   "outputs": [
    {
     "data": {
      "text/plain": [
       "Counter({'no': 366, 'yes': 34})"
      ]
     },
     "execution_count": 52,
     "metadata": {},
     "output_type": "execute_result"
    }
   ],
   "source": [
    "data['cad'] = data.cad.replace('\\tno','no')\n",
    "c(data['cad'])"
   ]
  },
  {
   "cell_type": "code",
   "execution_count": 53,
   "metadata": {},
   "outputs": [
    {
     "data": {
      "text/plain": [
       "Counter({'no': 263, 'yes': 137})"
      ]
     },
     "execution_count": 53,
     "metadata": {},
     "output_type": "execute_result"
    }
   ],
   "source": [
    "data['dm'] = data.dm.replace(to_replace={'\\tno':'no','\\tyes':'yes',' yes':'yes'})\n",
    "c(data['dm'])"
   ]
  },
  {
   "cell_type": "markdown",
   "metadata": {},
   "source": [
    "# Handling the missing values"
   ]
  },
  {
   "cell_type": "code",
   "execution_count": 11,
   "metadata": {},
   "outputs": [
    {
     "data": {
      "text/plain": [
       "id                False\n",
       "age                True\n",
       "bp                 True\n",
       "sg                 True\n",
       "al                 True\n",
       "su                 True\n",
       "rbc                True\n",
       "pc                 True\n",
       "pcc                True\n",
       "ba                 True\n",
       "bgr                True\n",
       "bu                 True\n",
       "sc                 True\n",
       "sod                True\n",
       "pot                True\n",
       "hemo               True\n",
       "pcv                True\n",
       "wc                 True\n",
       "rc                 True\n",
       "htn                True\n",
       "dm                 True\n",
       "cad                True\n",
       "appet              True\n",
       "pe                 True\n",
       "ane                True\n",
       "classification    False\n",
       "dtype: bool"
      ]
     },
     "execution_count": 11,
     "metadata": {},
     "output_type": "execute_result"
    }
   ],
   "source": [
    "data.isnull().any()"
   ]
  },
  {
   "cell_type": "code",
   "execution_count": 12,
   "metadata": {},
   "outputs": [
    {
     "data": {
      "text/plain": [
       "id                  0\n",
       "age                 9\n",
       "bp                 12\n",
       "sg                 47\n",
       "al                 46\n",
       "su                 49\n",
       "rbc               152\n",
       "pc                 65\n",
       "pcc                 4\n",
       "ba                  4\n",
       "bgr                44\n",
       "bu                 19\n",
       "sc                 17\n",
       "sod                87\n",
       "pot                88\n",
       "hemo               52\n",
       "pcv                70\n",
       "wc                105\n",
       "rc                130\n",
       "htn                 2\n",
       "dm                  2\n",
       "cad                 2\n",
       "appet               1\n",
       "pe                  1\n",
       "ane                 1\n",
       "classification      0\n",
       "dtype: int64"
      ]
     },
     "execution_count": 12,
     "metadata": {},
     "output_type": "execute_result"
    }
   ],
   "source": [
    "data.isnull().sum()"
   ]
  },
  {
   "cell_type": "code",
   "execution_count": 14,
   "metadata": {
    "collapsed": true
   },
   "outputs": [],
   "source": [
    "data.pcv = pd.to_numeric(data.pcv,errors='coerce')\n",
    "data.wc = pd.to_numeric(data.wc,errors='coerce')\n",
    "data.rc = pd.to_numeric(data.rc,errors='coerce')"
   ]
  },
  {
   "cell_type": "markdown",
   "metadata": {},
   "source": [
    "# Replacing the missing values"
   ]
  },
  {
   "cell_type": "code",
   "execution_count": 17,
   "metadata": {
    "collapsed": true
   },
   "outputs": [],
   "source": [
    "data['bgr'].fillna(data['bgr'].mean(),inplace=True)\n",
    "data['bp'].fillna(data['bp'].mean(),inplace=True)\n",
    "data['bu'].fillna(data['bu'].mean(),inplace=True)\n",
    "data['hemo'].fillna(data['hemo'].mean(),inplace=True)\n",
    "data['pcv'].fillna(data['pcv'].mean(),inplace=True)\n",
    "data['pot'].fillna(data['pot'].mean(),inplace=True)\n",
    "data['rc'].fillna(data['rc'].mean(),inplace=True)\n",
    "data['sc'].fillna(data['sc'].mean(),inplace=True)\n",
    "data['sod'].fillna(data['sod'].mean(),inplace=True)\n",
    "data['wc'].fillna(data['wc'].mean(),inplace=True)\n",
    "\n",
    "data['age'].fillna(data['age'].mode()[0],inplace=True)\n",
    "data['htn'].fillna(data['htn'].mode()[0],inplace=True)\n",
    "data['pcc'].fillna(data['pcc'].mode()[0],inplace=True)\n",
    "data['appet'].fillna(data['appet'].mode()[0],inplace=True)\n",
    "data['al'].fillna(data['al'].mode()[0],inplace=True)\n",
    "data['pc'].fillna(data['pc'].mode()[0],inplace=True)\n",
    "data['rbc'].fillna(data['rbc'].mode()[0],inplace=True)\n",
    "data['cad'].fillna(data['cad'].mode()[0],inplace=True)\n",
    "data['ba'].fillna(data['ba'].mode()[0],inplace=True)\n",
    "data['ane'].fillna(data['ane'].mode()[0],inplace=True)\n",
    "data['dm'].fillna(data['dm'].mode()[0],inplace=True)\n",
    "data['pe'].fillna(data['pe'].mode()[0],inplace=True)\n",
    "data['sg'].fillna(data['sg'].mode()[0],inplace=True)"
   ]
  },
  {
   "cell_type": "markdown",
   "metadata": {},
   "source": [
    "# Label Encoding"
   ]
  },
  {
   "cell_type": "code",
   "execution_count": 54,
   "metadata": {},
   "outputs": [
    {
     "name": "stdout",
     "output_type": "stream",
     "text": [
      "Label Encoding of:  htn\n",
      "Counter({'no': 253, 'yes': 147})\n",
      "Counter({0: 253, 1: 147})\n",
      "****************************************************************************************************\n",
      "Label Encoding of:  appet\n",
      "Counter({'good': 318, 'poor': 82})\n",
      "Counter({0: 318, 1: 82})\n",
      "****************************************************************************************************\n",
      "Label Encoding of:  dm\n",
      "Counter({'no': 263, 'yes': 137})\n",
      "Counter({0: 263, 1: 137})\n",
      "****************************************************************************************************\n",
      "Label Encoding of:  pcc\n",
      "Counter({'notpresent': 358, 'present': 42})\n",
      "Counter({0: 358, 1: 42})\n",
      "****************************************************************************************************\n",
      "Label Encoding of:  rbc\n",
      "Counter({'normal': 353, 'abnormal': 47})\n",
      "Counter({1: 353, 0: 47})\n",
      "****************************************************************************************************\n",
      "Label Encoding of:  pe\n",
      "Counter({'no': 324, 'yes': 76})\n",
      "Counter({0: 324, 1: 76})\n",
      "****************************************************************************************************\n",
      "Label Encoding of:  pc\n",
      "Counter({'normal': 324, 'abnormal': 76})\n",
      "Counter({1: 324, 0: 76})\n",
      "****************************************************************************************************\n",
      "Label Encoding of:  ane\n",
      "Counter({'no': 340, 'yes': 60})\n",
      "Counter({0: 340, 1: 60})\n",
      "****************************************************************************************************\n",
      "Label Encoding of:  classification\n",
      "Counter({'ckd': 250, 'notckd': 150})\n",
      "Counter({0: 250, 1: 150})\n",
      "****************************************************************************************************\n",
      "Label Encoding of:  ba\n",
      "Counter({'notpresent': 378, 'present': 22})\n",
      "Counter({0: 378, 1: 22})\n",
      "****************************************************************************************************\n",
      "Label Encoding of:  cad\n",
      "Counter({'no': 366, 'yes': 34})\n",
      "Counter({0: 366, 1: 34})\n",
      "****************************************************************************************************\n"
     ]
    }
   ],
   "source": [
    "for i in catcol:\n",
    "    print(\"Label Encoding of: \",i)\n",
    "    LE = LabelEncoder()\n",
    "    print(c(data[i]))\n",
    "    data[i] = LE.fit_transform(data[i])\n",
    "    print(c(data[i]))\n",
    "    print(\"*\"*100)"
   ]
  }
 ],
 "metadata": {
  "kernelspec": {
   "display_name": "Python 3",
   "language": "python",
   "name": "python3"
  },
  "language_info": {
   "codemirror_mode": {
    "name": "ipython",
    "version": 3
   },
   "file_extension": ".py",
   "mimetype": "text/x-python",
   "name": "python",
   "nbconvert_exporter": "python",
   "pygments_lexer": "ipython3",
   "version": "3.6.1"
  }
 },
 "nbformat": 4,
 "nbformat_minor": 2
}
